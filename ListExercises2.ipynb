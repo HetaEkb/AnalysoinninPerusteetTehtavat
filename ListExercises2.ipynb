{
 "cells": [
  {
   "cell_type": "code",
   "execution_count": 26,
   "metadata": {},
   "outputs": [
    {
     "name": "stdout",
     "output_type": "stream",
     "text": [
      "['2', '4', '6', '8', '10']\n"
     ]
    }
   ],
   "source": [
    "thrownDiceNumber = [\"2\", \"4\", \"6\", \"8\", \"10\"]\n",
    "print(thrownDiceNumber)"
   ]
  },
  {
   "cell_type": "code",
   "execution_count": 27,
   "metadata": {},
   "outputs": [
    {
     "name": "stdout",
     "output_type": "stream",
     "text": [
      "Sum of numbers: 30\n"
     ]
    }
   ],
   "source": [
    "sum_of_numbers = sum(map(int, thrownDiceNumber))\n",
    "print(\"Sum of numbers:\", sum_of_numbers)"
   ]
  },
  {
   "cell_type": "code",
   "execution_count": 28,
   "metadata": {},
   "outputs": [
    {
     "name": "stdout",
     "output_type": "stream",
     "text": [
      "['2', '4', '6', '8', '10']\n",
      "Highest value: 10\n"
     ]
    }
   ],
   "source": [
    "thrownDiceNumber = [\"2\", \"4\", \"6\", \"8\", \"10\"]\n",
    "print(thrownDiceNumber)\n",
    "\n",
    "thrownDiceNumber_int = list(map(int, thrownDiceNumber))\n",
    "\n",
    "max_value = max(thrownDiceNumber_int)\n",
    "print(\"Highest value:\", max_value)"
   ]
  }
 ],
 "metadata": {
  "kernelspec": {
   "display_name": "Python 3",
   "language": "python",
   "name": "python3"
  },
  "language_info": {
   "codemirror_mode": {
    "name": "ipython",
    "version": 3
   },
   "file_extension": ".py",
   "mimetype": "text/x-python",
   "name": "python",
   "nbconvert_exporter": "python",
   "pygments_lexer": "ipython3",
   "version": "3.12.0"
  }
 },
 "nbformat": 4,
 "nbformat_minor": 2
}
